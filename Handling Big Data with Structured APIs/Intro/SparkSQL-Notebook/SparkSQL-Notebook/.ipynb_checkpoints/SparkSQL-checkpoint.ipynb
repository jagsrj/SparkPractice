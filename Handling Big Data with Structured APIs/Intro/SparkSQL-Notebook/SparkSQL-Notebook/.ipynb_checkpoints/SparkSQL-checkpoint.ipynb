{
 "cells": [
  {
   "cell_type": "markdown",
   "metadata": {},
   "source": [
    "## Create a new spark session"
   ]
  },
  {
   "cell_type": "code",
   "execution_count": 1,
   "metadata": {},
   "outputs": [
    {
     "data": {
      "application/vnd.jupyter.widget-view+json": {
       "model_id": "26a899d3366a4dd78f30ca5752034a20",
       "version_major": 2,
       "version_minor": 0
      },
      "text/plain": [
       "VBox()"
      ]
     },
     "metadata": {},
     "output_type": "display_data"
    },
    {
     "name": "stdout",
     "output_type": "stream",
     "text": [
      "Starting Spark application\n"
     ]
    },
    {
     "data": {
      "text/html": [
       "<table>\n",
       "<tr><th>ID</th><th>YARN Application ID</th><th>Kind</th><th>State</th><th>Spark UI</th><th>Driver log</th><th>User</th><th>Current session?</th></tr><tr><td>8</td><td>application_1661067562848_0009</td><td>pyspark</td><td>idle</td><td><a target=\"_blank\" href=\"http://ip-172-31-13-89.ec2.internal:20888/proxy/application_1661067562848_0009/\" class=\"emr-proxy-link\" emr-resource=\"j-AUL5D38JXHMA\n",
       "\" application-id=\"application_1661067562848_0009\">Link</a></td><td><a target=\"_blank\" href=\"http://ip-172-31-13-89.ec2.internal:8042/node/containerlogs/container_1661067562848_0009_01_000001/livy\" >Link</a></td><td>None</td><td>✔</td></tr></table>"
      ],
      "text/plain": [
       "<IPython.core.display.HTML object>"
      ]
     },
     "metadata": {},
     "output_type": "display_data"
    },
    {
     "data": {
      "application/vnd.jupyter.widget-view+json": {
       "model_id": "",
       "version_major": 2,
       "version_minor": 0
      },
      "text/plain": [
       "FloatProgress(value=0.0, bar_style='info', description='Progress:', layout=Layout(height='25px', width='50%'),…"
      ]
     },
     "metadata": {},
     "output_type": "display_data"
    },
    {
     "name": "stdout",
     "output_type": "stream",
     "text": [
      "SparkSession available as 'spark'.\n"
     ]
    },
    {
     "data": {
      "application/vnd.jupyter.widget-view+json": {
       "model_id": "",
       "version_major": 2,
       "version_minor": 0
      },
      "text/plain": [
       "FloatProgress(value=0.0, bar_style='info', description='Progress:', layout=Layout(height='25px', width='50%'),…"
      ]
     },
     "metadata": {},
     "output_type": "display_data"
    }
   ],
   "source": [
    "from pyspark.sql import SparkSession"
   ]
  },
  {
   "cell_type": "code",
   "execution_count": 2,
   "metadata": {},
   "outputs": [
    {
     "data": {
      "application/vnd.jupyter.widget-view+json": {
       "model_id": "f319db0c82e74c55b9a468c8bd0235ff",
       "version_major": 2,
       "version_minor": 0
      },
      "text/plain": [
       "VBox()"
      ]
     },
     "metadata": {},
     "output_type": "display_data"
    },
    {
     "data": {
      "application/vnd.jupyter.widget-view+json": {
       "model_id": "",
       "version_major": 2,
       "version_minor": 0
      },
      "text/plain": [
       "FloatProgress(value=0.0, bar_style='info', description='Progress:', layout=Layout(height='25px', width='50%'),…"
      ]
     },
     "metadata": {},
     "output_type": "display_data"
    }
   ],
   "source": [
    "spark = SparkSession.builder.appName(\"SparkSQL\").getOrCreate()"
   ]
  },
  {
   "cell_type": "markdown",
   "metadata": {},
   "source": [
    "## Read data"
   ]
  },
  {
   "cell_type": "code",
   "execution_count": 3,
   "metadata": {},
   "outputs": [
    {
     "data": {
      "application/vnd.jupyter.widget-view+json": {
       "model_id": "58e23560eb8b41f192d53de6aca8f3de",
       "version_major": 2,
       "version_minor": 0
      },
      "text/plain": [
       "VBox()"
      ]
     },
     "metadata": {},
     "output_type": "display_data"
    },
    {
     "data": {
      "application/vnd.jupyter.widget-view+json": {
       "model_id": "",
       "version_major": 2,
       "version_minor": 0
      },
      "text/plain": [
       "FloatProgress(value=0.0, bar_style='info', description='Progress:', layout=Layout(height='25px', width='50%'),…"
      ]
     },
     "metadata": {},
     "output_type": "display_data"
    }
   ],
   "source": [
    "data = spark.read.options(inferSchema='True',header='True').csv(\"s3://myawsbucketbuckettt/investments.csv\")"
   ]
  },
  {
   "cell_type": "code",
   "execution_count": 4,
   "metadata": {},
   "outputs": [
    {
     "data": {
      "application/vnd.jupyter.widget-view+json": {
       "model_id": "5b7e360d1004493fb3fc53b6e014d096",
       "version_major": 2,
       "version_minor": 0
      },
      "text/plain": [
       "VBox()"
      ]
     },
     "metadata": {},
     "output_type": "display_data"
    },
    {
     "data": {
      "application/vnd.jupyter.widget-view+json": {
       "model_id": "",
       "version_major": 2,
       "version_minor": 0
      },
      "text/plain": [
       "FloatProgress(value=0.0, bar_style='info', description='Progress:', layout=Layout(height='25px', width='50%'),…"
      ]
     },
     "metadata": {},
     "output_type": "display_data"
    },
    {
     "name": "stdout",
     "output_type": "stream",
     "text": [
      "+--------------------+------------------+--------------------+--------------------+--------------------+-------------------+---------+------------+----------+--------------------+-----------------+--------------+----------+-------------+---------------+------------+----------------+---------------+-------+-------+-------------------+-----------+----------------+--------------+-----+-----+--------------+---------------+-------------+----------------+--------------------+-------+-------+-------+-------+-------+-------+-------+-------+\n",
      "|           permalink|              name|        homepage_url|       category_list|             market | funding_total_usd |   status|country_code|state_code|              region|             city|funding_rounds|founded_at|founded_month|founded_quarter|founded_year|first_funding_at|last_funding_at|   seed|venture|equity_crowdfunding|undisclosed|convertible_note|debt_financing|angel|grant|private_equity|post_ipo_equity|post_ipo_debt|secondary_market|product_crowdfunding|round_A|round_B|round_C|round_D|round_E|round_F|round_G|round_H|\n",
      "+--------------------+------------------+--------------------+--------------------+--------------------+-------------------+---------+------------+----------+--------------------+-----------------+--------------+----------+-------------+---------------+------------+----------------+---------------+-------+-------+-------------------+-----------+----------------+--------------+-----+-----+--------------+---------------+-------------+----------------+--------------------+-------+-------+-------+-------+-------+-------+-------+-------+\n",
      "|/organization/way...|          #waywire|http://www.waywir...||Entertainment|Po...|               News |         17,50,000 | acquired|         USA|        NY|       New York City|         New York|             1|2012-06-01|      2012-06|        2012-Q2|        2012|      2012-06-30|     2012-06-30|1750000|      0|                  0|          0|               0|             0|    0|    0|             0|              0|            0|               0|                   0|      0|      0|      0|      0|      0|      0|      0|      0|\n",
      "|/organization/tv-...|&TV Communications|http://enjoyandtv...|             |Games||              Games |         40,00,000 |operating|         USA|        CA|         Los Angeles|      Los Angeles|             2|      null|         null|           null|        null|      2010-06-04|     2010-09-23|      0|4000000|                  0|          0|               0|             0|    0|    0|             0|              0|            0|               0|                   0|      0|      0|      0|      0|      0|      0|      0|      0|\n",
      "|/organization/roc...| 'Rock' Your Paper|http://www.rockyo...||Publishing|Educa...|         Publishing |            40,000 |operating|         EST|      null|             Tallinn|          Tallinn|             1|2012-10-26|      2012-10|        2012-Q4|        2012|      2012-08-09|     2012-08-09|  40000|      0|                  0|          0|               0|             0|    0|    0|             0|              0|            0|               0|                   0|      0|      0|      0|      0|      0|      0|      0|      0|\n",
      "|/organization/in-...| (In)Touch Network|http://www.InTouc...||Electronics|Guid...|        Electronics |         15,00,000 |operating|         GBR|      null|              London|           London|             1|2011-04-01|      2011-04|        2011-Q2|        2011|      2011-04-01|     2011-04-01|1500000|      0|                  0|          0|               0|             0|    0|    0|             0|              0|            0|               0|                   0|      0|      0|      0|      0|      0|      0|      0|      0|\n",
      "|/organization/r-r...|-R- Ranch and Mine|                null||Tourism|Entertai...|            Tourism |            60,000 |operating|         USA|        TX|              Dallas|       Fort Worth|             2|2014-01-01|      2014-01|        2014-Q1|        2014|      2014-08-17|     2014-09-26|      0|      0|              60000|          0|               0|             0|    0|    0|             0|              0|            0|               0|                   0|      0|      0|      0|      0|      0|      0|      0|      0|\n",
      "|/organization/clu...|     .Club Domains|    http://nic.club/|          |Software||           Software |         70,00,000 |     null|         USA|        FL|      Ft. Lauderdale|     Oakland Park|             1|2011-10-10|      2011-10|        2011-Q4|        2011|      2013-05-31|     2013-05-31|      0|7000000|                  0|          0|               0|             0|    0|    0|             0|              0|            0|               0|                   0|      0|7000000|      0|      0|      0|      0|      0|      0|\n",
      "|/organization/fox...|     .Fox Networks|http://www.dotfox...|       |Advertising||        Advertising |         49,12,393 |   closed|         ARG|      null|        Buenos Aires|     Buenos Aires|             1|      null|         null|           null|        null|      2007-01-16|     2007-01-16|      0|      0|                  0|    4912393|               0|             0|    0|    0|             0|              0|            0|               0|                   0|      0|      0|      0|      0|      0|      0|      0|      0|\n",
      "|/organization/0-6...|           0-6.com|  http://www.0-6.com|       |Curated Web||        Curated Web |         20,00,000 |operating|        null|      null|                null|             null|             1|2007-01-01|      2007-01|        2007-Q1|        2007|      2008-03-19|     2008-03-19|      0|2000000|                  0|          0|               0|             0|    0|    0|             0|              0|            0|               0|                   0|2000000|      0|      0|      0|      0|      0|      0|      0|\n",
      "|/organization/004...|  004 Technologies|http://004gmbh.de...|          |Software||           Software |               -   |operating|         USA|        IL|Springfield, Illi...|        Champaign|             1|2010-01-01|      2010-01|        2010-Q1|        2010|      2014-07-24|     2014-07-24|      0|      0|                  0|          0|               0|             0|    0|    0|             0|              0|            0|               0|                   0|      0|      0|      0|      0|      0|      0|      0|      0|\n",
      "|/organization/01g...|01Games Technology|http://www.01game...|             |Games||              Games |            41,250 |operating|         HKG|      null|           Hong Kong|        Hong Kong|             1|      null|         null|           null|        null|      2014-07-01|     2014-07-01|  41250|      0|                  0|          0|               0|             0|    0|    0|             0|              0|            0|               0|                   0|      0|      0|      0|      0|      0|      0|      0|      0|\n",
      "|/organization/1-2...|       1,2,3 Listo|http://www.123lis...|        |E-Commerce||         E-Commerce |            40,000 |operating|         CHL|      null|            Santiago|       Las Condes|             1|2012-01-01|      2012-01|        2012-Q1|        2012|      2013-02-18|     2013-02-18|  40000|      0|                  0|          0|               0|             0|    0|    0|             0|              0|            0|               0|                   0|      0|      0|      0|      0|      0|      0|      0|      0|\n",
      "|/organization/1-4...|           1-4 All|                null||Entertainment|Ga...|           Software |               -   |operating|         USA|        NC|          NC - Other|Connellys Springs|             1|      null|         null|           null|        null|      2013-04-21|     2013-04-21|      0|      0|                  0|          0|               0|             0|    0|    0|             0|              0|            0|               0|                   0|      0|      0|      0|      0|      0|      0|      0|      0|\n",
      "|/organization/1-8...|     1-800-DENTIST|http://www.1800de...||Health and Welln...| Health and Welln...|               -   |operating|         USA|        CA|         Los Angeles|      Los Angeles|             1|1986-01-01|      1986-01|        1986-Q1|        1986|      2010-08-19|     2010-08-19|      0|      0|                  0|          0|               0|             0|    0|    0|             0|              0|            0|               0|                   0|      0|      0|      0|      0|      0|      0|      0|      0|\n",
      "|/organization/1-8...|     1-800-DOCTORS|http://1800doctor...||Health and Welln...| Health and Welln...|         17,50,000 |operating|         USA|        NJ|              Newark|           Iselin|             1|1984-01-01|      1984-01|        1984-Q1|        1984|      2011-03-02|     2011-03-02|      0|      0|                  0|          0|         1750000|             0|    0|    0|             0|              0|            0|               0|                   0|      0|      0|      0|      0|      0|      0|      0|      0|\n",
      "|/organization/1-6...|  1.618 Technology|                null|       |Real Estate||        Real Estate |               -   |operating|         USA|        FL|             Orlando|          Orlando|             1|2013-12-07|      2013-12|        2013-Q4|        2013|      2014-01-22|     2014-01-22|      0|      0|                  0|          0|               0|             0|    0|    0|             0|              0|            0|               0|                   0|      0|      0|      0|      0|      0|      0|      0|      0|\n",
      "|/organization/10-...|   10 Minutes With|http://10minutesw...|         |Education||          Education |         44,00,000 |operating|         GBR|      null|              London|           London|             2|2013-01-01|      2013-01|        2013-Q1|        2013|      2013-01-01|     2014-10-09| 400000|4000000|                  0|          0|               0|             0|    0|    0|             0|              0|            0|               0|                   0|4000000|      0|      0|      0|      0|      0|      0|      0|\n",
      "|/organization/10-...|       10-20 Media|http://www.10-20m...|        |E-Commerce||         E-Commerce |         20,50,000 |operating|         USA|        MD|           Baltimore|         Woodbine|             4|2001-01-01|      2001-01|        2001-Q1|        2001|      2009-06-18|     2011-12-28|      0|      0|                  0|          0|               0|       2050000|    0|    0|             0|              0|            0|               0|                   0|      0|      0|      0|      0|      0|      0|      0|      0|\n",
      "|/organization/100...|        1000 Corks|http://1000corks.com|            |Search||             Search |            40,000 |operating|         USA|        OR|    Portland, Oregon|      Lake Oswego|             1|2008-01-01|      2008-01|        2008-Q1|        2008|      2011-08-23|     2011-08-23|  40000|      0|                  0|          0|               0|             0|    0|    0|             0|              0|            0|               0|                   0|      0|      0|      0|      0|      0|      0|      0|      0|\n",
      "|/organization/100...|      1000 Markets|http://www.1000ma...||Marketplaces|Art...|       Marketplaces |          5,00,000 | acquired|        null|      null|                null|             null|             1|2009-01-01|      2009-01|        2009-Q1|        2009|      2009-05-15|     2009-05-15| 500000|      0|                  0|          0|               0|             0|    0|    0|             0|              0|            0|               0|                   0|      0|      0|      0|      0|      0|      0|      0|      0|\n",
      "|/organization/100...| 1000jobboersen.de|http://www.1000jo...|       |Curated Web||        Curated Web |               -   |operating|         DEU|      null|              Berlin|           Berlin|             1|      null|         null|           null|        null|      2011-09-16|     2011-09-16|      0|      0|                  0|          0|               0|             0|    0|    0|             0|              0|            0|               0|                   0|      0|      0|      0|      0|      0|      0|      0|      0|\n",
      "+--------------------+------------------+--------------------+--------------------+--------------------+-------------------+---------+------------+----------+--------------------+-----------------+--------------+----------+-------------+---------------+------------+----------------+---------------+-------+-------+-------------------+-----------+----------------+--------------+-----+-----+--------------+---------------+-------------+----------------+--------------------+-------+-------+-------+-------+-------+-------+-------+-------+\n",
      "only showing top 20 rows"
     ]
    }
   ],
   "source": [
    "data.show()"
   ]
  },
  {
   "cell_type": "code",
   "execution_count": 5,
   "metadata": {},
   "outputs": [
    {
     "data": {
      "application/vnd.jupyter.widget-view+json": {
       "model_id": "40a2afac4c3a4577af2ce43087351b1f",
       "version_major": 2,
       "version_minor": 0
      },
      "text/plain": [
       "VBox()"
      ]
     },
     "metadata": {},
     "output_type": "display_data"
    },
    {
     "data": {
      "application/vnd.jupyter.widget-view+json": {
       "model_id": "",
       "version_major": 2,
       "version_minor": 0
      },
      "text/plain": [
       "FloatProgress(value=0.0, bar_style='info', description='Progress:', layout=Layout(height='25px', width='50%'),…"
      ]
     },
     "metadata": {},
     "output_type": "display_data"
    },
    {
     "name": "stdout",
     "output_type": "stream",
     "text": [
      "['permalink', 'name', 'homepage_url', 'category_list', ' market ', ' funding_total_usd ', 'status', 'country_code', 'state_code', 'region', 'city', 'funding_rounds', 'founded_at', 'founded_month', 'founded_quarter', 'founded_year', 'first_funding_at', 'last_funding_at', 'seed', 'venture', 'equity_crowdfunding', 'undisclosed', 'convertible_note', 'debt_financing', 'angel', 'grant', 'private_equity', 'post_ipo_equity', 'post_ipo_debt', 'secondary_market', 'product_crowdfunding', 'round_A', 'round_B', 'round_C', 'round_D', 'round_E', 'round_F', 'round_G', 'round_H']"
     ]
    }
   ],
   "source": [
    "data.columns"
   ]
  },
  {
   "cell_type": "code",
   "execution_count": 6,
   "metadata": {},
   "outputs": [
    {
     "data": {
      "application/vnd.jupyter.widget-view+json": {
       "model_id": "b7185dfdd7764e348ee8931d021e7785",
       "version_major": 2,
       "version_minor": 0
      },
      "text/plain": [
       "VBox()"
      ]
     },
     "metadata": {},
     "output_type": "display_data"
    },
    {
     "data": {
      "application/vnd.jupyter.widget-view+json": {
       "model_id": "",
       "version_major": 2,
       "version_minor": 0
      },
      "text/plain": [
       "FloatProgress(value=0.0, bar_style='info', description='Progress:', layout=Layout(height='25px', width='50%'),…"
      ]
     },
     "metadata": {},
     "output_type": "display_data"
    },
    {
     "name": "stdout",
     "output_type": "stream",
     "text": [
      "root\n",
      " |-- permalink: string (nullable = true)\n",
      " |-- name: string (nullable = true)\n",
      " |-- homepage_url: string (nullable = true)\n",
      " |-- category_list: string (nullable = true)\n",
      " |--  market : string (nullable = true)\n",
      " |--  funding_total_usd : string (nullable = true)\n",
      " |-- status: string (nullable = true)\n",
      " |-- country_code: string (nullable = true)\n",
      " |-- state_code: string (nullable = true)\n",
      " |-- region: string (nullable = true)\n",
      " |-- city: string (nullable = true)\n",
      " |-- funding_rounds: integer (nullable = true)\n",
      " |-- founded_at: string (nullable = true)\n",
      " |-- founded_month: string (nullable = true)\n",
      " |-- founded_quarter: string (nullable = true)\n",
      " |-- founded_year: integer (nullable = true)\n",
      " |-- first_funding_at: string (nullable = true)\n",
      " |-- last_funding_at: string (nullable = true)\n",
      " |-- seed: integer (nullable = true)\n",
      " |-- venture: long (nullable = true)\n",
      " |-- equity_crowdfunding: integer (nullable = true)\n",
      " |-- undisclosed: integer (nullable = true)\n",
      " |-- convertible_note: integer (nullable = true)\n",
      " |-- debt_financing: long (nullable = true)\n",
      " |-- angel: integer (nullable = true)\n",
      " |-- grant: integer (nullable = true)\n",
      " |-- private_equity: long (nullable = true)\n",
      " |-- post_ipo_equity: long (nullable = true)\n",
      " |-- post_ipo_debt: long (nullable = true)\n",
      " |-- secondary_market: integer (nullable = true)\n",
      " |-- product_crowdfunding: integer (nullable = true)\n",
      " |-- round_A: integer (nullable = true)\n",
      " |-- round_B: integer (nullable = true)\n",
      " |-- round_C: integer (nullable = true)\n",
      " |-- round_D: integer (nullable = true)\n",
      " |-- round_E: integer (nullable = true)\n",
      " |-- round_F: integer (nullable = true)\n",
      " |-- round_G: integer (nullable = true)\n",
      " |-- round_H: integer (nullable = true)"
     ]
    }
   ],
   "source": [
    "data.printSchema()"
   ]
  },
  {
   "cell_type": "code",
   "execution_count": null,
   "metadata": {},
   "outputs": [],
   "source": []
  },
  {
   "cell_type": "markdown",
   "metadata": {},
   "source": [
    "## Create a temprary table"
   ]
  },
  {
   "cell_type": "markdown",
   "metadata": {},
   "source": [
    "This is an essential step to use a SQL query"
   ]
  },
  {
   "cell_type": "code",
   "execution_count": 7,
   "metadata": {},
   "outputs": [
    {
     "data": {
      "application/vnd.jupyter.widget-view+json": {
       "model_id": "ef3a8508b46d48a59adc38898ff076f7",
       "version_major": 2,
       "version_minor": 0
      },
      "text/plain": [
       "VBox()"
      ]
     },
     "metadata": {},
     "output_type": "display_data"
    },
    {
     "data": {
      "application/vnd.jupyter.widget-view+json": {
       "model_id": "",
       "version_major": 2,
       "version_minor": 0
      },
      "text/plain": [
       "FloatProgress(value=0.0, bar_style='info', description='Progress:', layout=Layout(height='25px', width='50%'),…"
      ]
     },
     "metadata": {},
     "output_type": "display_data"
    }
   ],
   "source": [
    "data.createOrReplaceTempView('investment')"
   ]
  },
  {
   "cell_type": "code",
   "execution_count": 8,
   "metadata": {},
   "outputs": [
    {
     "data": {
      "application/vnd.jupyter.widget-view+json": {
       "model_id": "a195b6a34d9d456c93e3ad31bc0a739c",
       "version_major": 2,
       "version_minor": 0
      },
      "text/plain": [
       "VBox()"
      ]
     },
     "metadata": {},
     "output_type": "display_data"
    },
    {
     "data": {
      "application/vnd.jupyter.widget-view+json": {
       "model_id": "",
       "version_major": 2,
       "version_minor": 0
      },
      "text/plain": [
       "FloatProgress(value=0.0, bar_style='info', description='Progress:', layout=Layout(height='25px', width='50%'),…"
      ]
     },
     "metadata": {},
     "output_type": "display_data"
    },
    {
     "name": "stdout",
     "output_type": "stream",
     "text": [
      "+--------------------+------------------+--------------------+--------------------+-------------+-------------------+---------+------------+----------+--------------------+------------+--------------+----------+-------------+---------------+------------+----------------+---------------+-------+-------+-------------------+-----------+----------------+--------------+-----+-----+--------------+---------------+-------------+----------------+--------------------+-------+-------+-------+-------+-------+-------+-------+-------+\n",
      "|           permalink|              name|        homepage_url|       category_list|      market | funding_total_usd |   status|country_code|state_code|              region|        city|funding_rounds|founded_at|founded_month|founded_quarter|founded_year|first_funding_at|last_funding_at|   seed|venture|equity_crowdfunding|undisclosed|convertible_note|debt_financing|angel|grant|private_equity|post_ipo_equity|post_ipo_debt|secondary_market|product_crowdfunding|round_A|round_B|round_C|round_D|round_E|round_F|round_G|round_H|\n",
      "+--------------------+------------------+--------------------+--------------------+-------------+-------------------+---------+------------+----------+--------------------+------------+--------------+----------+-------------+---------------+------------+----------------+---------------+-------+-------+-------------------+-----------+----------------+--------------+-----+-----+--------------+---------------+-------------+----------------+--------------------+-------+-------+-------+-------+-------+-------+-------+-------+\n",
      "|/organization/way...|          #waywire|http://www.waywir...||Entertainment|Po...|        News |         17,50,000 | acquired|         USA|        NY|       New York City|    New York|             1|2012-06-01|      2012-06|        2012-Q2|        2012|      2012-06-30|     2012-06-30|1750000|      0|                  0|          0|               0|             0|    0|    0|             0|              0|            0|               0|                   0|      0|      0|      0|      0|      0|      0|      0|      0|\n",
      "|/organization/tv-...|&TV Communications|http://enjoyandtv...|             |Games||       Games |         40,00,000 |operating|         USA|        CA|         Los Angeles| Los Angeles|             2|      null|         null|           null|        null|      2010-06-04|     2010-09-23|      0|4000000|                  0|          0|               0|             0|    0|    0|             0|              0|            0|               0|                   0|      0|      0|      0|      0|      0|      0|      0|      0|\n",
      "|/organization/roc...| 'Rock' Your Paper|http://www.rockyo...||Publishing|Educa...|  Publishing |            40,000 |operating|         EST|      null|             Tallinn|     Tallinn|             1|2012-10-26|      2012-10|        2012-Q4|        2012|      2012-08-09|     2012-08-09|  40000|      0|                  0|          0|               0|             0|    0|    0|             0|              0|            0|               0|                   0|      0|      0|      0|      0|      0|      0|      0|      0|\n",
      "|/organization/in-...| (In)Touch Network|http://www.InTouc...||Electronics|Guid...| Electronics |         15,00,000 |operating|         GBR|      null|              London|      London|             1|2011-04-01|      2011-04|        2011-Q2|        2011|      2011-04-01|     2011-04-01|1500000|      0|                  0|          0|               0|             0|    0|    0|             0|              0|            0|               0|                   0|      0|      0|      0|      0|      0|      0|      0|      0|\n",
      "|/organization/r-r...|-R- Ranch and Mine|                null||Tourism|Entertai...|     Tourism |            60,000 |operating|         USA|        TX|              Dallas|  Fort Worth|             2|2014-01-01|      2014-01|        2014-Q1|        2014|      2014-08-17|     2014-09-26|      0|      0|              60000|          0|               0|             0|    0|    0|             0|              0|            0|               0|                   0|      0|      0|      0|      0|      0|      0|      0|      0|\n",
      "|/organization/clu...|     .Club Domains|    http://nic.club/|          |Software||    Software |         70,00,000 |     null|         USA|        FL|      Ft. Lauderdale|Oakland Park|             1|2011-10-10|      2011-10|        2011-Q4|        2011|      2013-05-31|     2013-05-31|      0|7000000|                  0|          0|               0|             0|    0|    0|             0|              0|            0|               0|                   0|      0|7000000|      0|      0|      0|      0|      0|      0|\n",
      "|/organization/fox...|     .Fox Networks|http://www.dotfox...|       |Advertising|| Advertising |         49,12,393 |   closed|         ARG|      null|        Buenos Aires|Buenos Aires|             1|      null|         null|           null|        null|      2007-01-16|     2007-01-16|      0|      0|                  0|    4912393|               0|             0|    0|    0|             0|              0|            0|               0|                   0|      0|      0|      0|      0|      0|      0|      0|      0|\n",
      "|/organization/0-6...|           0-6.com|  http://www.0-6.com|       |Curated Web|| Curated Web |         20,00,000 |operating|        null|      null|                null|        null|             1|2007-01-01|      2007-01|        2007-Q1|        2007|      2008-03-19|     2008-03-19|      0|2000000|                  0|          0|               0|             0|    0|    0|             0|              0|            0|               0|                   0|2000000|      0|      0|      0|      0|      0|      0|      0|\n",
      "|/organization/004...|  004 Technologies|http://004gmbh.de...|          |Software||    Software |               -   |operating|         USA|        IL|Springfield, Illi...|   Champaign|             1|2010-01-01|      2010-01|        2010-Q1|        2010|      2014-07-24|     2014-07-24|      0|      0|                  0|          0|               0|             0|    0|    0|             0|              0|            0|               0|                   0|      0|      0|      0|      0|      0|      0|      0|      0|\n",
      "|/organization/01g...|01Games Technology|http://www.01game...|             |Games||       Games |            41,250 |operating|         HKG|      null|           Hong Kong|   Hong Kong|             1|      null|         null|           null|        null|      2014-07-01|     2014-07-01|  41250|      0|                  0|          0|               0|             0|    0|    0|             0|              0|            0|               0|                   0|      0|      0|      0|      0|      0|      0|      0|      0|\n",
      "+--------------------+------------------+--------------------+--------------------+-------------+-------------------+---------+------------+----------+--------------------+------------+--------------+----------+-------------+---------------+------------+----------------+---------------+-------+-------+-------------------+-----------+----------------+--------------+-----+-----+--------------+---------------+-------------+----------------+--------------------+-------+-------+-------+-------+-------+-------+-------+-------+"
     ]
    }
   ],
   "source": [
    "spark.sql(\"select * from investment limit 10\").show()"
   ]
  },
  {
   "cell_type": "code",
   "execution_count": 9,
   "metadata": {},
   "outputs": [
    {
     "data": {
      "application/vnd.jupyter.widget-view+json": {
       "model_id": "b8ddb65b616343bfaaca303b9d38eab7",
       "version_major": 2,
       "version_minor": 0
      },
      "text/plain": [
       "VBox()"
      ]
     },
     "metadata": {},
     "output_type": "display_data"
    },
    {
     "data": {
      "application/vnd.jupyter.widget-view+json": {
       "model_id": "",
       "version_major": 2,
       "version_minor": 0
      },
      "text/plain": [
       "FloatProgress(value=0.0, bar_style='info', description='Progress:', layout=Layout(height='25px', width='50%'),…"
      ]
     },
     "metadata": {},
     "output_type": "display_data"
    },
    {
     "name": "stdout",
     "output_type": "stream",
     "text": [
      "+--------------------+------------------+--------------------+--------------------+--------------------+-------------------+---------+------------+----------+--------------------+-----------------+--------------+----------+-------------+---------------+------------+----------------+---------------+-------+--------+-------------------+-----------+----------------+--------------+-----+-----+--------------+---------------+-------------+----------------+--------------------+-------+-------+-------+-------+-------+-------+-------+-------+\n",
      "|           permalink|              name|        homepage_url|       category_list|             market | funding_total_usd |   status|country_code|state_code|              region|             city|funding_rounds|founded_at|founded_month|founded_quarter|founded_year|first_funding_at|last_funding_at|   seed| venture|equity_crowdfunding|undisclosed|convertible_note|debt_financing|angel|grant|private_equity|post_ipo_equity|post_ipo_debt|secondary_market|product_crowdfunding|round_A|round_B|round_C|round_D|round_E|round_F|round_G|round_H|\n",
      "+--------------------+------------------+--------------------+--------------------+--------------------+-------------------+---------+------------+----------+--------------------+-----------------+--------------+----------+-------------+---------------+------------+----------------+---------------+-------+--------+-------------------+-----------+----------------+--------------+-----+-----+--------------+---------------+-------------+----------------+--------------------+-------+-------+-------+-------+-------+-------+-------+-------+\n",
      "|/organization/way...|          #waywire|http://www.waywir...||Entertainment|Po...|               News |         17,50,000 | acquired|         USA|        NY|       New York City|         New York|             1|2012-06-01|      2012-06|        2012-Q2|        2012|      2012-06-30|     2012-06-30|1750000|       0|                  0|          0|               0|             0|    0|    0|             0|              0|            0|               0|                   0|      0|      0|      0|      0|      0|      0|      0|      0|\n",
      "|/organization/tv-...|&TV Communications|http://enjoyandtv...|             |Games||              Games |         40,00,000 |operating|         USA|        CA|         Los Angeles|      Los Angeles|             2|      null|         null|           null|        null|      2010-06-04|     2010-09-23|      0| 4000000|                  0|          0|               0|             0|    0|    0|             0|              0|            0|               0|                   0|      0|      0|      0|      0|      0|      0|      0|      0|\n",
      "|/organization/r-r...|-R- Ranch and Mine|                null||Tourism|Entertai...|            Tourism |            60,000 |operating|         USA|        TX|              Dallas|       Fort Worth|             2|2014-01-01|      2014-01|        2014-Q1|        2014|      2014-08-17|     2014-09-26|      0|       0|              60000|          0|               0|             0|    0|    0|             0|              0|            0|               0|                   0|      0|      0|      0|      0|      0|      0|      0|      0|\n",
      "|/organization/clu...|     .Club Domains|    http://nic.club/|          |Software||           Software |         70,00,000 |     null|         USA|        FL|      Ft. Lauderdale|     Oakland Park|             1|2011-10-10|      2011-10|        2011-Q4|        2011|      2013-05-31|     2013-05-31|      0| 7000000|                  0|          0|               0|             0|    0|    0|             0|              0|            0|               0|                   0|      0|7000000|      0|      0|      0|      0|      0|      0|\n",
      "|/organization/004...|  004 Technologies|http://004gmbh.de...|          |Software||           Software |               -   |operating|         USA|        IL|Springfield, Illi...|        Champaign|             1|2010-01-01|      2010-01|        2010-Q1|        2010|      2014-07-24|     2014-07-24|      0|       0|                  0|          0|               0|             0|    0|    0|             0|              0|            0|               0|                   0|      0|      0|      0|      0|      0|      0|      0|      0|\n",
      "|/organization/1-4...|           1-4 All|                null||Entertainment|Ga...|           Software |               -   |operating|         USA|        NC|          NC - Other|Connellys Springs|             1|      null|         null|           null|        null|      2013-04-21|     2013-04-21|      0|       0|                  0|          0|               0|             0|    0|    0|             0|              0|            0|               0|                   0|      0|      0|      0|      0|      0|      0|      0|      0|\n",
      "|/organization/1-8...|     1-800-DENTIST|http://www.1800de...||Health and Welln...| Health and Welln...|               -   |operating|         USA|        CA|         Los Angeles|      Los Angeles|             1|1986-01-01|      1986-01|        1986-Q1|        1986|      2010-08-19|     2010-08-19|      0|       0|                  0|          0|               0|             0|    0|    0|             0|              0|            0|               0|                   0|      0|      0|      0|      0|      0|      0|      0|      0|\n",
      "|/organization/1-8...|     1-800-DOCTORS|http://1800doctor...||Health and Welln...| Health and Welln...|         17,50,000 |operating|         USA|        NJ|              Newark|           Iselin|             1|1984-01-01|      1984-01|        1984-Q1|        1984|      2011-03-02|     2011-03-02|      0|       0|                  0|          0|         1750000|             0|    0|    0|             0|              0|            0|               0|                   0|      0|      0|      0|      0|      0|      0|      0|      0|\n",
      "|/organization/1-6...|  1.618 Technology|                null|       |Real Estate||        Real Estate |               -   |operating|         USA|        FL|             Orlando|          Orlando|             1|2013-12-07|      2013-12|        2013-Q4|        2013|      2014-01-22|     2014-01-22|      0|       0|                  0|          0|               0|             0|    0|    0|             0|              0|            0|               0|                   0|      0|      0|      0|      0|      0|      0|      0|      0|\n",
      "|/organization/10-...|       10-20 Media|http://www.10-20m...|        |E-Commerce||         E-Commerce |         20,50,000 |operating|         USA|        MD|           Baltimore|         Woodbine|             4|2001-01-01|      2001-01|        2001-Q1|        2001|      2009-06-18|     2011-12-28|      0|       0|                  0|          0|               0|       2050000|    0|    0|             0|              0|            0|               0|                   0|      0|      0|      0|      0|      0|      0|      0|      0|\n",
      "|/organization/100...|        1000 Corks|http://1000corks.com|            |Search||             Search |            40,000 |operating|         USA|        OR|    Portland, Oregon|      Lake Oswego|             1|2008-01-01|      2008-01|        2008-Q1|        2008|      2011-08-23|     2011-08-23|  40000|       0|                  0|          0|               0|             0|    0|    0|             0|              0|            0|               0|                   0|      0|      0|      0|      0|      0|      0|      0|      0|\n",
      "|/organization/100...|      1000memories|http://1000memori...|       |Curated Web||        Curated Web |         25,35,000 | acquired|         USA|        CA|         SF Bay Area|    San Francisco|             2|2010-07-01|      2010-07|        2010-Q3|        2010|      2010-01-01|     2011-02-16|  15000| 2520000|                  0|          0|               0|             0|    0|    0|             0|              0|            0|               0|                   0|2520000|      0|      0|      0|      0|      0|      0|      0|\n",
      "|/organization/100...|   1000museums.com|http://www.1000mu...|       |Curated Web||        Curated Web |         49,62,651 |operating|         USA|        WA|             Seattle|         Bellevue|             6|2008-01-01|      2008-01|        2008-Q1|        2008|      2009-10-14|     2014-09-19|      0| 3814772|                  0|          0|               0|       1147879|    0|    0|             0|              0|            0|               0|                   0|      0|      0|      0|      0|      0|      0|      0|      0|\n",
      "|/organization/100...|         100health|http://www.redoxe...||Health Care Info...| Health Care Info...|          4,20,000 |operating|         USA|        WI|             Madison|          Madison|             1|2014-07-04|      2014-07|        2014-Q3|        2014|      2014-11-26|     2014-11-26| 420000|       0|                  0|          0|               0|             0|    0|    0|             0|              0|            0|               0|                   0|      0|      0|      0|      0|      0|      0|      0|      0|\n",
      "|/organization/100...|           100Plus|http://www.100plu...|         |Analytics||          Analytics |         12,50,000 | acquired|         USA|        CA|         SF Bay Area|    San Francisco|             2|2011-09-16|      2011-09|        2011-Q3|        2011|      2011-11-02|     2011-11-30| 750000|  500000|                  0|          0|               0|             0|    0|    0|             0|              0|            0|               0|                   0|      0|      0|      0|      0|      0|      0|      0|      0|\n",
      "|/organization/101...|          1010data|http://www.1010da...|          |Software||           Software |       3,50,00,000 |operating|         USA|        NY|       New York City|         New York|             1|2000-01-01|      2000-01|        2000-Q1|        2000|      2010-03-08|     2010-03-08|      0|35000000|                  0|          0|               0|             0|    0|    0|             0|              0|            0|               0|                   0|      0|      0|      0|      0|      0|      0|      0|      0|\n",
      "|/organization/10b...|      10BestThings|http://10bestthin...|       |Curated Web||        Curated Web |            50,000 |   closed|         USA|        OH|           Cleveland|        Cleveland|             1|2009-04-01|      2009-04|        2009-Q2|        2009|      2009-04-01|     2009-04-01|  50000|       0|                  0|          0|               0|             0|    0|    0|             0|              0|            0|               0|                   0|      0|      0|      0|      0|      0|      0|      0|      0|\n",
      "| /organization/10six|             10Six|http://10sixenerg...||Electronics|Batt...|        Electronics |               -   |operating|         USA|        NY|       New York City|         New York|             1|      null|         null|           null|        null|      2014-02-01|     2014-02-01|      0|       0|                  0|          0|               0|             0|    0|    0|             0|              0|            0|               0|                   0|      0|      0|      0|      0|      0|      0|      0|      0|\n",
      "|/organization/10x...|  10X Technologies|http://10xtechnol...|     |Biotechnology||      Biotechnology |         30,00,000 |operating|         USA|        CA|         SF Bay Area|          Oakland|             1|2012-01-01|      2012-01|        2012-Q1|        2012|      2012-11-07|     2012-11-07|      0|       0|                  0|          0|               0|       3000000|    0|    0|             0|              0|            0|               0|                   0|      0|      0|      0|      0|      0|      0|      0|      0|\n",
      "|/organization/10x...|        10X10 Room|http://10x10room.com|          |Software||           Software |            77,500 |operating|         USA|        MA|              Boston|        Lexington|             1|2010-01-01|      2010-01|        2010-Q1|        2010|      2011-10-12|     2011-10-12|      0|       0|                  0|          0|               0|         77500|    0|    0|             0|              0|            0|               0|                   0|      0|      0|      0|      0|      0|      0|      0|      0|\n",
      "+--------------------+------------------+--------------------+--------------------+--------------------+-------------------+---------+------------+----------+--------------------+-----------------+--------------+----------+-------------+---------------+------------+----------------+---------------+-------+--------+-------------------+-----------+----------------+--------------+-----+-----+--------------+---------------+-------------+----------------+--------------------+-------+-------+-------+-------+-------+-------+-------+-------+\n",
      "only showing top 20 rows"
     ]
    }
   ],
   "source": [
    "spark.sql(\"select * from investment where country_code == 'USA'\").show()"
   ]
  },
  {
   "cell_type": "code",
   "execution_count": 10,
   "metadata": {},
   "outputs": [
    {
     "data": {
      "application/vnd.jupyter.widget-view+json": {
       "model_id": "30607707264e4fba9eef272873834772",
       "version_major": 2,
       "version_minor": 0
      },
      "text/plain": [
       "VBox()"
      ]
     },
     "metadata": {},
     "output_type": "display_data"
    },
    {
     "data": {
      "application/vnd.jupyter.widget-view+json": {
       "model_id": "",
       "version_major": 2,
       "version_minor": 0
      },
      "text/plain": [
       "FloatProgress(value=0.0, bar_style='info', description='Progress:', layout=Layout(height='25px', width='50%'),…"
      ]
     },
     "metadata": {},
     "output_type": "display_data"
    }
   ],
   "source": [
    "usstrartsup = spark.sql(\"select * from investment where country_code == 'USA'\")"
   ]
  },
  {
   "cell_type": "code",
   "execution_count": 11,
   "metadata": {},
   "outputs": [
    {
     "data": {
      "application/vnd.jupyter.widget-view+json": {
       "model_id": "492126155d3341839c0f1bc8c3e8b4f9",
       "version_major": 2,
       "version_minor": 0
      },
      "text/plain": [
       "VBox()"
      ]
     },
     "metadata": {},
     "output_type": "display_data"
    },
    {
     "data": {
      "application/vnd.jupyter.widget-view+json": {
       "model_id": "",
       "version_major": 2,
       "version_minor": 0
      },
      "text/plain": [
       "FloatProgress(value=0.0, bar_style='info', description='Progress:', layout=Layout(height='25px', width='50%'),…"
      ]
     },
     "metadata": {},
     "output_type": "display_data"
    },
    {
     "name": "stdout",
     "output_type": "stream",
     "text": [
      "+--------------------+------------------+--------------------+--------------------+--------------------+-------------------+---------+------------+----------+--------------------+-----------------+--------------+----------+-------------+---------------+------------+----------------+---------------+-------+--------+-------------------+-----------+----------------+--------------+-----+-----+--------------+---------------+-------------+----------------+--------------------+-------+-------+-------+-------+-------+-------+-------+-------+\n",
      "|           permalink|              name|        homepage_url|       category_list|             market | funding_total_usd |   status|country_code|state_code|              region|             city|funding_rounds|founded_at|founded_month|founded_quarter|founded_year|first_funding_at|last_funding_at|   seed| venture|equity_crowdfunding|undisclosed|convertible_note|debt_financing|angel|grant|private_equity|post_ipo_equity|post_ipo_debt|secondary_market|product_crowdfunding|round_A|round_B|round_C|round_D|round_E|round_F|round_G|round_H|\n",
      "+--------------------+------------------+--------------------+--------------------+--------------------+-------------------+---------+------------+----------+--------------------+-----------------+--------------+----------+-------------+---------------+------------+----------------+---------------+-------+--------+-------------------+-----------+----------------+--------------+-----+-----+--------------+---------------+-------------+----------------+--------------------+-------+-------+-------+-------+-------+-------+-------+-------+\n",
      "|/organization/way...|          #waywire|http://www.waywir...||Entertainment|Po...|               News |         17,50,000 | acquired|         USA|        NY|       New York City|         New York|             1|2012-06-01|      2012-06|        2012-Q2|        2012|      2012-06-30|     2012-06-30|1750000|       0|                  0|          0|               0|             0|    0|    0|             0|              0|            0|               0|                   0|      0|      0|      0|      0|      0|      0|      0|      0|\n",
      "|/organization/tv-...|&TV Communications|http://enjoyandtv...|             |Games||              Games |         40,00,000 |operating|         USA|        CA|         Los Angeles|      Los Angeles|             2|      null|         null|           null|        null|      2010-06-04|     2010-09-23|      0| 4000000|                  0|          0|               0|             0|    0|    0|             0|              0|            0|               0|                   0|      0|      0|      0|      0|      0|      0|      0|      0|\n",
      "|/organization/r-r...|-R- Ranch and Mine|                null||Tourism|Entertai...|            Tourism |            60,000 |operating|         USA|        TX|              Dallas|       Fort Worth|             2|2014-01-01|      2014-01|        2014-Q1|        2014|      2014-08-17|     2014-09-26|      0|       0|              60000|          0|               0|             0|    0|    0|             0|              0|            0|               0|                   0|      0|      0|      0|      0|      0|      0|      0|      0|\n",
      "|/organization/clu...|     .Club Domains|    http://nic.club/|          |Software||           Software |         70,00,000 |     null|         USA|        FL|      Ft. Lauderdale|     Oakland Park|             1|2011-10-10|      2011-10|        2011-Q4|        2011|      2013-05-31|     2013-05-31|      0| 7000000|                  0|          0|               0|             0|    0|    0|             0|              0|            0|               0|                   0|      0|7000000|      0|      0|      0|      0|      0|      0|\n",
      "|/organization/004...|  004 Technologies|http://004gmbh.de...|          |Software||           Software |               -   |operating|         USA|        IL|Springfield, Illi...|        Champaign|             1|2010-01-01|      2010-01|        2010-Q1|        2010|      2014-07-24|     2014-07-24|      0|       0|                  0|          0|               0|             0|    0|    0|             0|              0|            0|               0|                   0|      0|      0|      0|      0|      0|      0|      0|      0|\n",
      "|/organization/1-4...|           1-4 All|                null||Entertainment|Ga...|           Software |               -   |operating|         USA|        NC|          NC - Other|Connellys Springs|             1|      null|         null|           null|        null|      2013-04-21|     2013-04-21|      0|       0|                  0|          0|               0|             0|    0|    0|             0|              0|            0|               0|                   0|      0|      0|      0|      0|      0|      0|      0|      0|\n",
      "|/organization/1-8...|     1-800-DENTIST|http://www.1800de...||Health and Welln...| Health and Welln...|               -   |operating|         USA|        CA|         Los Angeles|      Los Angeles|             1|1986-01-01|      1986-01|        1986-Q1|        1986|      2010-08-19|     2010-08-19|      0|       0|                  0|          0|               0|             0|    0|    0|             0|              0|            0|               0|                   0|      0|      0|      0|      0|      0|      0|      0|      0|\n",
      "|/organization/1-8...|     1-800-DOCTORS|http://1800doctor...||Health and Welln...| Health and Welln...|         17,50,000 |operating|         USA|        NJ|              Newark|           Iselin|             1|1984-01-01|      1984-01|        1984-Q1|        1984|      2011-03-02|     2011-03-02|      0|       0|                  0|          0|         1750000|             0|    0|    0|             0|              0|            0|               0|                   0|      0|      0|      0|      0|      0|      0|      0|      0|\n",
      "|/organization/1-6...|  1.618 Technology|                null|       |Real Estate||        Real Estate |               -   |operating|         USA|        FL|             Orlando|          Orlando|             1|2013-12-07|      2013-12|        2013-Q4|        2013|      2014-01-22|     2014-01-22|      0|       0|                  0|          0|               0|             0|    0|    0|             0|              0|            0|               0|                   0|      0|      0|      0|      0|      0|      0|      0|      0|\n",
      "|/organization/10-...|       10-20 Media|http://www.10-20m...|        |E-Commerce||         E-Commerce |         20,50,000 |operating|         USA|        MD|           Baltimore|         Woodbine|             4|2001-01-01|      2001-01|        2001-Q1|        2001|      2009-06-18|     2011-12-28|      0|       0|                  0|          0|               0|       2050000|    0|    0|             0|              0|            0|               0|                   0|      0|      0|      0|      0|      0|      0|      0|      0|\n",
      "|/organization/100...|        1000 Corks|http://1000corks.com|            |Search||             Search |            40,000 |operating|         USA|        OR|    Portland, Oregon|      Lake Oswego|             1|2008-01-01|      2008-01|        2008-Q1|        2008|      2011-08-23|     2011-08-23|  40000|       0|                  0|          0|               0|             0|    0|    0|             0|              0|            0|               0|                   0|      0|      0|      0|      0|      0|      0|      0|      0|\n",
      "|/organization/100...|      1000memories|http://1000memori...|       |Curated Web||        Curated Web |         25,35,000 | acquired|         USA|        CA|         SF Bay Area|    San Francisco|             2|2010-07-01|      2010-07|        2010-Q3|        2010|      2010-01-01|     2011-02-16|  15000| 2520000|                  0|          0|               0|             0|    0|    0|             0|              0|            0|               0|                   0|2520000|      0|      0|      0|      0|      0|      0|      0|\n",
      "|/organization/100...|   1000museums.com|http://www.1000mu...|       |Curated Web||        Curated Web |         49,62,651 |operating|         USA|        WA|             Seattle|         Bellevue|             6|2008-01-01|      2008-01|        2008-Q1|        2008|      2009-10-14|     2014-09-19|      0| 3814772|                  0|          0|               0|       1147879|    0|    0|             0|              0|            0|               0|                   0|      0|      0|      0|      0|      0|      0|      0|      0|\n",
      "|/organization/100...|         100health|http://www.redoxe...||Health Care Info...| Health Care Info...|          4,20,000 |operating|         USA|        WI|             Madison|          Madison|             1|2014-07-04|      2014-07|        2014-Q3|        2014|      2014-11-26|     2014-11-26| 420000|       0|                  0|          0|               0|             0|    0|    0|             0|              0|            0|               0|                   0|      0|      0|      0|      0|      0|      0|      0|      0|\n",
      "|/organization/100...|           100Plus|http://www.100plu...|         |Analytics||          Analytics |         12,50,000 | acquired|         USA|        CA|         SF Bay Area|    San Francisco|             2|2011-09-16|      2011-09|        2011-Q3|        2011|      2011-11-02|     2011-11-30| 750000|  500000|                  0|          0|               0|             0|    0|    0|             0|              0|            0|               0|                   0|      0|      0|      0|      0|      0|      0|      0|      0|\n",
      "|/organization/101...|          1010data|http://www.1010da...|          |Software||           Software |       3,50,00,000 |operating|         USA|        NY|       New York City|         New York|             1|2000-01-01|      2000-01|        2000-Q1|        2000|      2010-03-08|     2010-03-08|      0|35000000|                  0|          0|               0|             0|    0|    0|             0|              0|            0|               0|                   0|      0|      0|      0|      0|      0|      0|      0|      0|\n",
      "|/organization/10b...|      10BestThings|http://10bestthin...|       |Curated Web||        Curated Web |            50,000 |   closed|         USA|        OH|           Cleveland|        Cleveland|             1|2009-04-01|      2009-04|        2009-Q2|        2009|      2009-04-01|     2009-04-01|  50000|       0|                  0|          0|               0|             0|    0|    0|             0|              0|            0|               0|                   0|      0|      0|      0|      0|      0|      0|      0|      0|\n",
      "| /organization/10six|             10Six|http://10sixenerg...||Electronics|Batt...|        Electronics |               -   |operating|         USA|        NY|       New York City|         New York|             1|      null|         null|           null|        null|      2014-02-01|     2014-02-01|      0|       0|                  0|          0|               0|             0|    0|    0|             0|              0|            0|               0|                   0|      0|      0|      0|      0|      0|      0|      0|      0|\n",
      "|/organization/10x...|  10X Technologies|http://10xtechnol...|     |Biotechnology||      Biotechnology |         30,00,000 |operating|         USA|        CA|         SF Bay Area|          Oakland|             1|2012-01-01|      2012-01|        2012-Q1|        2012|      2012-11-07|     2012-11-07|      0|       0|                  0|          0|               0|       3000000|    0|    0|             0|              0|            0|               0|                   0|      0|      0|      0|      0|      0|      0|      0|      0|\n",
      "|/organization/10x...|        10X10 Room|http://10x10room.com|          |Software||           Software |            77,500 |operating|         USA|        MA|              Boston|        Lexington|             1|2010-01-01|      2010-01|        2010-Q1|        2010|      2011-10-12|     2011-10-12|      0|       0|                  0|          0|               0|         77500|    0|    0|             0|              0|            0|               0|                   0|      0|      0|      0|      0|      0|      0|      0|      0|\n",
      "+--------------------+------------------+--------------------+--------------------+--------------------+-------------------+---------+------------+----------+--------------------+-----------------+--------------+----------+-------------+---------------+------------+----------------+---------------+-------+--------+-------------------+-----------+----------------+--------------+-----+-----+--------------+---------------+-------------+----------------+--------------------+-------+-------+-------+-------+-------+-------+-------+-------+\n",
      "only showing top 20 rows"
     ]
    }
   ],
   "source": [
    "usstrartsup.show()"
   ]
  },
  {
   "cell_type": "code",
   "execution_count": 12,
   "metadata": {},
   "outputs": [
    {
     "data": {
      "application/vnd.jupyter.widget-view+json": {
       "model_id": "b0b3c647e8c24fd3a86c3fa2d3e7b276",
       "version_major": 2,
       "version_minor": 0
      },
      "text/plain": [
       "VBox()"
      ]
     },
     "metadata": {},
     "output_type": "display_data"
    },
    {
     "data": {
      "application/vnd.jupyter.widget-view+json": {
       "model_id": "",
       "version_major": 2,
       "version_minor": 0
      },
      "text/plain": [
       "FloatProgress(value=0.0, bar_style='info', description='Progress:', layout=Layout(height='25px', width='50%'),…"
      ]
     },
     "metadata": {},
     "output_type": "display_data"
    }
   ],
   "source": [
    "usstrartsup.createOrReplaceTempView('usstartup_table')"
   ]
  },
  {
   "cell_type": "code",
   "execution_count": 13,
   "metadata": {},
   "outputs": [
    {
     "data": {
      "application/vnd.jupyter.widget-view+json": {
       "model_id": "7e32c0354c124ac8b33f3fd0a4f8c627",
       "version_major": 2,
       "version_minor": 0
      },
      "text/plain": [
       "VBox()"
      ]
     },
     "metadata": {},
     "output_type": "display_data"
    },
    {
     "data": {
      "application/vnd.jupyter.widget-view+json": {
       "model_id": "",
       "version_major": 2,
       "version_minor": 0
      },
      "text/plain": [
       "FloatProgress(value=0.0, bar_style='info', description='Progress:', layout=Layout(height='25px', width='50%'),…"
      ]
     },
     "metadata": {},
     "output_type": "display_data"
    },
    {
     "name": "stdout",
     "output_type": "stream",
     "text": [
      "+--------------------+------------------+--------------------+--------------------+--------------------+-------------------+---------+------------+----------+--------------------+-----------------+--------------+----------+-------------+---------------+------------+----------------+---------------+-------+-------+-------------------+-----------+----------------+--------------+-----+-----+--------------+---------------+-------------+----------------+--------------------+-------+-------+-------+-------+-------+-------+-------+-------+\n",
      "|           permalink|              name|        homepage_url|       category_list|             market | funding_total_usd |   status|country_code|state_code|              region|             city|funding_rounds|founded_at|founded_month|founded_quarter|founded_year|first_funding_at|last_funding_at|   seed|venture|equity_crowdfunding|undisclosed|convertible_note|debt_financing|angel|grant|private_equity|post_ipo_equity|post_ipo_debt|secondary_market|product_crowdfunding|round_A|round_B|round_C|round_D|round_E|round_F|round_G|round_H|\n",
      "+--------------------+------------------+--------------------+--------------------+--------------------+-------------------+---------+------------+----------+--------------------+-----------------+--------------+----------+-------------+---------------+------------+----------------+---------------+-------+-------+-------------------+-----------+----------------+--------------+-----+-----+--------------+---------------+-------------+----------------+--------------------+-------+-------+-------+-------+-------+-------+-------+-------+\n",
      "|/organization/way...|          #waywire|http://www.waywir...||Entertainment|Po...|               News |         17,50,000 | acquired|         USA|        NY|       New York City|         New York|             1|2012-06-01|      2012-06|        2012-Q2|        2012|      2012-06-30|     2012-06-30|1750000|      0|                  0|          0|               0|             0|    0|    0|             0|              0|            0|               0|                   0|      0|      0|      0|      0|      0|      0|      0|      0|\n",
      "|/organization/tv-...|&TV Communications|http://enjoyandtv...|             |Games||              Games |         40,00,000 |operating|         USA|        CA|         Los Angeles|      Los Angeles|             2|      null|         null|           null|        null|      2010-06-04|     2010-09-23|      0|4000000|                  0|          0|               0|             0|    0|    0|             0|              0|            0|               0|                   0|      0|      0|      0|      0|      0|      0|      0|      0|\n",
      "|/organization/r-r...|-R- Ranch and Mine|                null||Tourism|Entertai...|            Tourism |            60,000 |operating|         USA|        TX|              Dallas|       Fort Worth|             2|2014-01-01|      2014-01|        2014-Q1|        2014|      2014-08-17|     2014-09-26|      0|      0|              60000|          0|               0|             0|    0|    0|             0|              0|            0|               0|                   0|      0|      0|      0|      0|      0|      0|      0|      0|\n",
      "|/organization/clu...|     .Club Domains|    http://nic.club/|          |Software||           Software |         70,00,000 |     null|         USA|        FL|      Ft. Lauderdale|     Oakland Park|             1|2011-10-10|      2011-10|        2011-Q4|        2011|      2013-05-31|     2013-05-31|      0|7000000|                  0|          0|               0|             0|    0|    0|             0|              0|            0|               0|                   0|      0|7000000|      0|      0|      0|      0|      0|      0|\n",
      "|/organization/004...|  004 Technologies|http://004gmbh.de...|          |Software||           Software |               -   |operating|         USA|        IL|Springfield, Illi...|        Champaign|             1|2010-01-01|      2010-01|        2010-Q1|        2010|      2014-07-24|     2014-07-24|      0|      0|                  0|          0|               0|             0|    0|    0|             0|              0|            0|               0|                   0|      0|      0|      0|      0|      0|      0|      0|      0|\n",
      "|/organization/1-4...|           1-4 All|                null||Entertainment|Ga...|           Software |               -   |operating|         USA|        NC|          NC - Other|Connellys Springs|             1|      null|         null|           null|        null|      2013-04-21|     2013-04-21|      0|      0|                  0|          0|               0|             0|    0|    0|             0|              0|            0|               0|                   0|      0|      0|      0|      0|      0|      0|      0|      0|\n",
      "|/organization/1-8...|     1-800-DENTIST|http://www.1800de...||Health and Welln...| Health and Welln...|               -   |operating|         USA|        CA|         Los Angeles|      Los Angeles|             1|1986-01-01|      1986-01|        1986-Q1|        1986|      2010-08-19|     2010-08-19|      0|      0|                  0|          0|               0|             0|    0|    0|             0|              0|            0|               0|                   0|      0|      0|      0|      0|      0|      0|      0|      0|\n",
      "|/organization/1-8...|     1-800-DOCTORS|http://1800doctor...||Health and Welln...| Health and Welln...|         17,50,000 |operating|         USA|        NJ|              Newark|           Iselin|             1|1984-01-01|      1984-01|        1984-Q1|        1984|      2011-03-02|     2011-03-02|      0|      0|                  0|          0|         1750000|             0|    0|    0|             0|              0|            0|               0|                   0|      0|      0|      0|      0|      0|      0|      0|      0|\n",
      "|/organization/1-6...|  1.618 Technology|                null|       |Real Estate||        Real Estate |               -   |operating|         USA|        FL|             Orlando|          Orlando|             1|2013-12-07|      2013-12|        2013-Q4|        2013|      2014-01-22|     2014-01-22|      0|      0|                  0|          0|               0|             0|    0|    0|             0|              0|            0|               0|                   0|      0|      0|      0|      0|      0|      0|      0|      0|\n",
      "|/organization/10-...|       10-20 Media|http://www.10-20m...|        |E-Commerce||         E-Commerce |         20,50,000 |operating|         USA|        MD|           Baltimore|         Woodbine|             4|2001-01-01|      2001-01|        2001-Q1|        2001|      2009-06-18|     2011-12-28|      0|      0|                  0|          0|               0|       2050000|    0|    0|             0|              0|            0|               0|                   0|      0|      0|      0|      0|      0|      0|      0|      0|\n",
      "+--------------------+------------------+--------------------+--------------------+--------------------+-------------------+---------+------------+----------+--------------------+-----------------+--------------+----------+-------------+---------------+------------+----------------+---------------+-------+-------+-------------------+-----------+----------------+--------------+-----+-----+--------------+---------------+-------------+----------------+--------------------+-------+-------+-------+-------+-------+-------+-------+-------+"
     ]
    }
   ],
   "source": [
    "spark.sql(\"select * from usstartup_table limit 10\").show()"
   ]
  },
  {
   "cell_type": "markdown",
   "metadata": {},
   "source": [
    "### Find most seeded startup in USA"
   ]
  },
  {
   "cell_type": "code",
   "execution_count": 14,
   "metadata": {},
   "outputs": [
    {
     "data": {
      "application/vnd.jupyter.widget-view+json": {
       "model_id": "c58fa39966864128982133e95d344cb8",
       "version_major": 2,
       "version_minor": 0
      },
      "text/plain": [
       "VBox()"
      ]
     },
     "metadata": {},
     "output_type": "display_data"
    },
    {
     "data": {
      "application/vnd.jupyter.widget-view+json": {
       "model_id": "",
       "version_major": 2,
       "version_minor": 0
      },
      "text/plain": [
       "FloatProgress(value=0.0, bar_style='info', description='Progress:', layout=Layout(height='25px', width='50%'),…"
      ]
     },
     "metadata": {},
     "output_type": "display_data"
    }
   ],
   "source": [
    "most_seed = spark.sql(\"select * from usstartup_table order by seed desc\")"
   ]
  },
  {
   "cell_type": "code",
   "execution_count": 15,
   "metadata": {},
   "outputs": [
    {
     "data": {
      "application/vnd.jupyter.widget-view+json": {
       "model_id": "4f5dde8115a045a19b4cccb0fa31d52b",
       "version_major": 2,
       "version_minor": 0
      },
      "text/plain": [
       "VBox()"
      ]
     },
     "metadata": {},
     "output_type": "display_data"
    },
    {
     "data": {
      "application/vnd.jupyter.widget-view+json": {
       "model_id": "",
       "version_major": 2,
       "version_minor": 0
      },
      "text/plain": [
       "FloatProgress(value=0.0, bar_style='info', description='Progress:', layout=Layout(height='25px', width='50%'),…"
      ]
     },
     "metadata": {},
     "output_type": "display_data"
    },
    {
     "name": "stdout",
     "output_type": "stream",
     "text": [
      "+--------------------+---------+\n",
      "|                name|     seed|\n",
      "+--------------------+---------+\n",
      "|Space Exploration...|100000000|\n",
      "|Wikimedia Foundation| 64000000|\n",
      "|        PharmaNation| 25000000|\n",
      "|            HeyAnita| 22300000|\n",
      "|         RetailMeNot| 21000000|\n",
      "|        ChoiceStream| 15000000|\n",
      "|Silverback Enterp...| 11500000|\n",
      "|NorthStar Systems...| 11500000|\n",
      "|          NuScriptRx| 10479384|\n",
      "|              Kensho| 10000000|\n",
      "|          Ice Energy| 10000000|\n",
      "|    Pepex Biomedical| 10000000|\n",
      "|              Koding|  9250000|\n",
      "|   Raise Marketplace|  9000000|\n",
      "|  Riverside Research|  8700000|\n",
      "|          Apportable|  8700000|\n",
      "|          YouScience|  8500000|\n",
      "|              KidZui|  8000000|\n",
      "|             eBureau|  8000000|\n",
      "|       Urban Compass|  8000000|\n",
      "+--------------------+---------+\n",
      "only showing top 20 rows"
     ]
    }
   ],
   "source": [
    "most_seed.select('name','seed').show()"
   ]
  },
  {
   "cell_type": "code",
   "execution_count": 16,
   "metadata": {},
   "outputs": [
    {
     "data": {
      "application/vnd.jupyter.widget-view+json": {
       "model_id": "3152c82fc3524621aee230d564d5a56b",
       "version_major": 2,
       "version_minor": 0
      },
      "text/plain": [
       "VBox()"
      ]
     },
     "metadata": {},
     "output_type": "display_data"
    },
    {
     "data": {
      "application/vnd.jupyter.widget-view+json": {
       "model_id": "",
       "version_major": 2,
       "version_minor": 0
      },
      "text/plain": [
       "FloatProgress(value=0.0, bar_style='info', description='Progress:', layout=Layout(height='25px', width='50%'),…"
      ]
     },
     "metadata": {},
     "output_type": "display_data"
    },
    {
     "name": "stdout",
     "output_type": "stream",
     "text": [
      "[Row(permalink='/organization/space-exploration-technologies', name='Space Exploration Technologies', homepage_url='http://www.spacex.com', category_list='|Public Transportation|',  market =' Public Transportation ',  funding_total_usd =' 24,54,60,000 ', status='operating', country_code='USA', state_code='CA', region='Los Angeles', city='Hawthorne', funding_rounds=6, founded_at='2002-01-01', founded_month='2002-01', founded_quarter='2002-Q1', founded_year=2002, first_funding_at='2006-03-01', last_funding_at='2012-12-21', seed=100000000, venture=145460000, equity_crowdfunding=0, undisclosed=0, convertible_note=0, debt_financing=0, angel=0, grant=0, private_equity=0, post_ipo_equity=0, post_ipo_debt=0, secondary_market=0, product_crowdfunding=0, round_A=20000000, round_B=30435000, round_C=50000000, round_D=0, round_E=0, round_F=0, round_G=0, round_H=0)]"
     ]
    }
   ],
   "source": [
    "most_seed.head(1)"
   ]
  },
  {
   "cell_type": "code",
   "execution_count": 17,
   "metadata": {},
   "outputs": [
    {
     "data": {
      "application/vnd.jupyter.widget-view+json": {
       "model_id": "6e64dfec4445449d9e77467f4a8248c5",
       "version_major": 2,
       "version_minor": 0
      },
      "text/plain": [
       "VBox()"
      ]
     },
     "metadata": {},
     "output_type": "display_data"
    },
    {
     "data": {
      "application/vnd.jupyter.widget-view+json": {
       "model_id": "",
       "version_major": 2,
       "version_minor": 0
      },
      "text/plain": [
       "FloatProgress(value=0.0, bar_style='info', description='Progress:', layout=Layout(height='25px', width='50%'),…"
      ]
     },
     "metadata": {},
     "output_type": "display_data"
    }
   ],
   "source": [
    "most_seed_startup = most_seed.head(1)[0].asDict()"
   ]
  },
  {
   "cell_type": "code",
   "execution_count": 18,
   "metadata": {},
   "outputs": [
    {
     "data": {
      "application/vnd.jupyter.widget-view+json": {
       "model_id": "a083768e6bb840fdbce1618bb3a85632",
       "version_major": 2,
       "version_minor": 0
      },
      "text/plain": [
       "VBox()"
      ]
     },
     "metadata": {},
     "output_type": "display_data"
    },
    {
     "data": {
      "application/vnd.jupyter.widget-view+json": {
       "model_id": "",
       "version_major": 2,
       "version_minor": 0
      },
      "text/plain": [
       "FloatProgress(value=0.0, bar_style='info', description='Progress:', layout=Layout(height='25px', width='50%'),…"
      ]
     },
     "metadata": {},
     "output_type": "display_data"
    },
    {
     "name": "stdout",
     "output_type": "stream",
     "text": [
      "{'permalink': '/organization/space-exploration-technologies', 'name': 'Space Exploration Technologies', 'homepage_url': 'http://www.spacex.com', 'category_list': '|Public Transportation|', ' market ': ' Public Transportation ', ' funding_total_usd ': ' 24,54,60,000 ', 'status': 'operating', 'country_code': 'USA', 'state_code': 'CA', 'region': 'Los Angeles', 'city': 'Hawthorne', 'funding_rounds': 6, 'founded_at': '2002-01-01', 'founded_month': '2002-01', 'founded_quarter': '2002-Q1', 'founded_year': 2002, 'first_funding_at': '2006-03-01', 'last_funding_at': '2012-12-21', 'seed': 100000000, 'venture': 145460000, 'equity_crowdfunding': 0, 'undisclosed': 0, 'convertible_note': 0, 'debt_financing': 0, 'angel': 0, 'grant': 0, 'private_equity': 0, 'post_ipo_equity': 0, 'post_ipo_debt': 0, 'secondary_market': 0, 'product_crowdfunding': 0, 'round_A': 20000000, 'round_B': 30435000, 'round_C': 50000000, 'round_D': 0, 'round_E': 0, 'round_F': 0, 'round_G': 0, 'round_H': 0}"
     ]
    }
   ],
   "source": [
    "most_seed_startup"
   ]
  },
  {
   "cell_type": "markdown",
   "metadata": {},
   "source": [
    "Only row objects can be converted to dict. by converting a row to dictionary indexing becomes easier. "
   ]
  },
  {
   "cell_type": "code",
   "execution_count": 19,
   "metadata": {},
   "outputs": [
    {
     "data": {
      "application/vnd.jupyter.widget-view+json": {
       "model_id": "308219ca14f54b47bcfbac68727289a3",
       "version_major": 2,
       "version_minor": 0
      },
      "text/plain": [
       "VBox()"
      ]
     },
     "metadata": {},
     "output_type": "display_data"
    },
    {
     "data": {
      "application/vnd.jupyter.widget-view+json": {
       "model_id": "",
       "version_major": 2,
       "version_minor": 0
      },
      "text/plain": [
       "FloatProgress(value=0.0, bar_style='info', description='Progress:', layout=Layout(height='25px', width='50%'),…"
      ]
     },
     "metadata": {},
     "output_type": "display_data"
    },
    {
     "name": "stdout",
     "output_type": "stream",
     "text": [
      "145460000"
     ]
    }
   ],
   "source": [
    "most_seed_startup['venture']"
   ]
  },
  {
   "cell_type": "code",
   "execution_count": 20,
   "metadata": {},
   "outputs": [
    {
     "data": {
      "application/vnd.jupyter.widget-view+json": {
       "model_id": "97ba7a16a8b642baa298aa1491bfcf95",
       "version_major": 2,
       "version_minor": 0
      },
      "text/plain": [
       "VBox()"
      ]
     },
     "metadata": {},
     "output_type": "display_data"
    },
    {
     "data": {
      "application/vnd.jupyter.widget-view+json": {
       "model_id": "",
       "version_major": 2,
       "version_minor": 0
      },
      "text/plain": [
       "FloatProgress(value=0.0, bar_style='info', description='Progress:', layout=Layout(height='25px', width='50%'),…"
      ]
     },
     "metadata": {},
     "output_type": "display_data"
    },
    {
     "name": "stdout",
     "output_type": "stream",
     "text": [
      "'2006-03-01'"
     ]
    }
   ],
   "source": [
    "most_seed_startup['first_funding_at']"
   ]
  },
  {
   "cell_type": "code",
   "execution_count": null,
   "metadata": {},
   "outputs": [],
   "source": []
  }
 ],
 "metadata": {
  "kernelspec": {
   "display_name": "Python 3",
   "language": "python",
   "name": "python3"
  },
  "language_info": {
   "codemirror_mode": {
    "name": "ipython",
    "version": 3
   },
   "file_extension": ".py",
   "mimetype": "text/x-python",
   "name": "python",
   "nbconvert_exporter": "python",
   "pygments_lexer": "ipython3",
   "version": "3.8.8"
  }
 },
 "nbformat": 4,
 "nbformat_minor": 4
}
